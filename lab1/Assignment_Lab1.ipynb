{
  "nbformat": 4,
  "nbformat_minor": 0,
  "metadata": {
    "colab": {
      "name": "Assignment_Lab1.ipynb",
      "provenance": [],
      "include_colab_link": true
    },
    "kernelspec": {
      "name": "python3",
      "display_name": "Python 3"
    },
    "language_info": {
      "name": "python"
    }
  },
  "cells": [
    {
      "cell_type": "markdown",
      "metadata": {
        "id": "view-in-github",
        "colab_type": "text"
      },
      "source": [
        "<a href=\"https://colab.research.google.com/github/AlviNabil/MachineLearningLab_CSE-4111/blob/main/lab1/Assignment_Lab1.ipynb\" target=\"_parent\"><img src=\"https://colab.research.google.com/assets/colab-badge.svg\" alt=\"Open In Colab\"/></a>"
      ]
    },
    {
      "cell_type": "markdown",
      "source": [
        "#Importing all the required Libraries"
      ],
      "metadata": {
        "id": "FUirXlPwYI6P"
      }
    },
    {
      "cell_type": "code",
      "execution_count": 4,
      "metadata": {
        "id": "VLlWXcVU6j2k"
      },
      "outputs": [],
      "source": [
        "import numpy as np\n",
        "import pandas as pd\n",
        "import sklearn\n",
        "from sklearn.metrics import confusion_matrix\n",
        "from sklearn.metrics import accuracy_score\n",
        "from sklearn.model_selection import train_test_split\n",
        "from google.colab import drive\n",
        "from matplotlib import pyplot as plt \n",
        "\n"
      ]
    },
    {
      "cell_type": "markdown",
      "source": [
        "#Mounting the drive for the pima data csv and read it in a variable"
      ],
      "metadata": {
        "id": "p_DzIxz1YPcT"
      }
    },
    {
      "cell_type": "code",
      "source": [
        "drive.mount('/content/drive')\n",
        "pima = pd.read_csv('/content/drive/MyDrive/diabetes.csv')"
      ],
      "metadata": {
        "id": "zxCqy6BkYYNi"
      },
      "execution_count": null,
      "outputs": []
    },
    {
      "cell_type": "markdown",
      "source": [
        "#Separating Data and Target variables from the CSV file"
      ],
      "metadata": {
        "id": "sS4-SmmwYdm2"
      }
    },
    {
      "cell_type": "code",
      "source": [
        "pima_data = pima.iloc[:,0:8]\n",
        "pima_target = pima.iloc[:,8]"
      ],
      "metadata": {
        "colab": {
          "base_uri": "https://localhost:8080/"
        },
        "id": "nEMJsEC7_w4i",
        "outputId": "dbb4c5e3-4d2d-41d0-a830-ad9051d0b031"
      },
      "execution_count": null,
      "outputs": [
        {
          "output_type": "stream",
          "name": "stdout",
          "text": [
            "     Pregnancies  Glucose  BloodPressure  SkinThickness  Insulin   BMI  \\\n",
            "0              6      148             72             35        0  33.6   \n",
            "1              1       85             66             29        0  26.6   \n",
            "2              8      183             64              0        0  23.3   \n",
            "3              1       89             66             23       94  28.1   \n",
            "4              0      137             40             35      168  43.1   \n",
            "..           ...      ...            ...            ...      ...   ...   \n",
            "763           10      101             76             48      180  32.9   \n",
            "764            2      122             70             27        0  36.8   \n",
            "765            5      121             72             23      112  26.2   \n",
            "766            1      126             60              0        0  30.1   \n",
            "767            1       93             70             31        0  30.4   \n",
            "\n",
            "     DiabetesPedigreeFunction  Age  \n",
            "0                       0.627   50  \n",
            "1                       0.351   31  \n",
            "2                       0.672   32  \n",
            "3                       0.167   21  \n",
            "4                       2.288   33  \n",
            "..                        ...  ...  \n",
            "763                     0.171   63  \n",
            "764                     0.340   27  \n",
            "765                     0.245   30  \n",
            "766                     0.349   47  \n",
            "767                     0.315   23  \n",
            "\n",
            "[768 rows x 8 columns]\n",
            "0      1\n",
            "1      0\n",
            "2      1\n",
            "3      0\n",
            "4      1\n",
            "      ..\n",
            "763    0\n",
            "764    0\n",
            "765    0\n",
            "766    1\n",
            "767    0\n",
            "Name: Outcome, Length: 768, dtype: int64\n"
          ]
        }
      ]
    },
    {
      "cell_type": "markdown",
      "source": [
        "#Checking and printing the data and targets and their shape"
      ],
      "metadata": {
        "id": "7Eb79oAxYlLy"
      }
    },
    {
      "cell_type": "code",
      "source": [
        "print(pima_data.head())\n",
        "print(pima_target.head())\n",
        "print(pima_data.shape)\n",
        "print(pima_target.shape)"
      ],
      "metadata": {
        "colab": {
          "base_uri": "https://localhost:8080/"
        },
        "id": "uKA441S3Hccr",
        "outputId": "6f7aebbc-d856-4c0a-b541-e44ac2f45518"
      },
      "execution_count": null,
      "outputs": [
        {
          "output_type": "stream",
          "name": "stdout",
          "text": [
            "   Pregnancies  Glucose  BloodPressure  SkinThickness  Insulin   BMI  \\\n",
            "0            6      148             72             35        0  33.6   \n",
            "1            1       85             66             29        0  26.6   \n",
            "2            8      183             64              0        0  23.3   \n",
            "3            1       89             66             23       94  28.1   \n",
            "4            0      137             40             35      168  43.1   \n",
            "\n",
            "   DiabetesPedigreeFunction  Age  \n",
            "0                     0.627   50  \n",
            "1                     0.351   31  \n",
            "2                     0.672   32  \n",
            "3                     0.167   21  \n",
            "4                     2.288   33  \n",
            "0    1\n",
            "1    0\n",
            "2    1\n",
            "3    0\n",
            "4    1\n",
            "Name: Outcome, dtype: int64\n",
            "(768, 8)\n",
            "(768,)\n"
          ]
        }
      ]
    },
    {
      "cell_type": "markdown",
      "source": [
        "#Spliting the data and target into train set and test set in 80/20 randomly where random state can be chosen(here 42)"
      ],
      "metadata": {
        "id": "zfFRHGp_Yze-"
      }
    },
    {
      "cell_type": "code",
      "source": [
        "X = pima_data\n",
        "y = pima_target"
      ],
      "metadata": {
        "id": "NRHqcgdrH-DM"
      },
      "execution_count": null,
      "outputs": []
    },
    {
      "cell_type": "code",
      "source": [
        "X_train, X_test, y_train, y_test = train_test_split(X, y, test_size=0.2, random_state=42)"
      ],
      "metadata": {
        "id": "PYeLvaCcIgAS"
      },
      "execution_count": null,
      "outputs": []
    },
    {
      "cell_type": "markdown",
      "source": [
        "#Training the KNN model with out train data"
      ],
      "metadata": {
        "id": "8VPDQqF-ZIyw"
      }
    },
    {
      "cell_type": "code",
      "source": [
        "from sklearn.neighbors  import KNeighborsClassifier\n",
        "KNN = KNeighborsClassifier(n_neighbors=3)\n",
        "KNN.fit(X_train, y_train)"
      ],
      "metadata": {
        "colab": {
          "base_uri": "https://localhost:8080/"
        },
        "id": "B-Q5H5QWI8hM",
        "outputId": "dd201fb5-b47d-4d5f-efbc-107961dbdcad"
      },
      "execution_count": null,
      "outputs": [
        {
          "output_type": "execute_result",
          "data": {
            "text/plain": [
              "KNeighborsClassifier(n_neighbors=3)"
            ]
          },
          "metadata": {},
          "execution_count": 48
        }
      ]
    },
    {
      "cell_type": "markdown",
      "source": [
        "#Predicting the result\n",
        "\n",
        "\n",
        "\n"
      ],
      "metadata": {
        "id": "k0HBz1slZRxO"
      }
    },
    {
      "cell_type": "code",
      "source": [
        "y_pred = KNN.predict(X_test)"
      ],
      "metadata": {
        "id": "yiSG4uKaIkI7"
      },
      "execution_count": null,
      "outputs": []
    },
    {
      "cell_type": "code",
      "source": [
        "y_pred"
      ],
      "metadata": {
        "colab": {
          "base_uri": "https://localhost:8080/"
        },
        "id": "gWfsejZGImlz",
        "outputId": "c4b95799-f4f7-4920-98c3-e878d3763809"
      },
      "execution_count": null,
      "outputs": [
        {
          "output_type": "execute_result",
          "data": {
            "text/plain": [
              "array([1, 1, 0, 1, 0, 0, 0, 0, 0, 0, 0, 0, 0, 0, 0, 0, 0, 1, 0, 0, 1, 1,\n",
              "       0, 0, 0, 0, 1, 1, 0, 0, 0, 1, 0, 0, 1, 0, 1, 0, 0, 1, 0, 0, 0, 0,\n",
              "       0, 1, 0, 0, 0, 0, 0, 0, 1, 0, 0, 1, 0, 1, 1, 1, 1, 0, 0, 0, 1, 0,\n",
              "       0, 0, 1, 0, 0, 1, 0, 0, 0, 0, 1, 1, 1, 1, 0, 0, 1, 0, 0, 0, 1, 0,\n",
              "       0, 0, 0, 0, 1, 0, 0, 0, 0, 0, 1, 1, 1, 0, 0, 1, 1, 1, 0, 0, 1, 1,\n",
              "       0, 1, 0, 0, 1, 0, 1, 1, 0, 0, 0, 1, 0, 1, 0, 0, 1, 0, 0, 0, 1, 0,\n",
              "       0, 0, 0, 1, 1, 0, 0, 0, 0, 1, 0, 0, 0, 1, 1, 0, 0, 1, 1, 0, 1, 0])"
            ]
          },
          "metadata": {},
          "execution_count": 32
        }
      ]
    },
    {
      "cell_type": "code",
      "source": [
        "y_test"
      ],
      "metadata": {
        "colab": {
          "base_uri": "https://localhost:8080/"
        },
        "id": "GW88kMv7IpLj",
        "outputId": "55a99acc-426a-438b-ef3f-8f2e6e031881"
      },
      "execution_count": null,
      "outputs": [
        {
          "output_type": "execute_result",
          "data": {
            "text/plain": [
              "668    0\n",
              "324    0\n",
              "624    0\n",
              "690    0\n",
              "473    0\n",
              "      ..\n",
              "355    1\n",
              "534    0\n",
              "344    0\n",
              "296    1\n",
              "462    0\n",
              "Name: Outcome, Length: 154, dtype: int64"
            ]
          },
          "metadata": {},
          "execution_count": 26
        }
      ]
    },
    {
      "cell_type": "markdown",
      "source": [
        "#Determining the accuracy of this test"
      ],
      "metadata": {
        "id": "a1MlmG-vZet_"
      }
    },
    {
      "cell_type": "code",
      "source": [
        "print(\"Accurace: \", accuracy_score(y_test,y_pred))"
      ],
      "metadata": {
        "colab": {
          "base_uri": "https://localhost:8080/"
        },
        "id": "39QfmSFVIxCx",
        "outputId": "2965953b-3bed-4ff7-b628-5d8c11317607"
      },
      "execution_count": null,
      "outputs": [
        {
          "output_type": "stream",
          "name": "stdout",
          "text": [
            "Accurace:  0.6948051948051948\n"
          ]
        }
      ]
    },
    {
      "cell_type": "markdown",
      "source": [
        "#Determining the error percentage for different value of K in KNN and keeping them in an error list"
      ],
      "metadata": {
        "id": "hUceytIcZj7n"
      }
    },
    {
      "cell_type": "code",
      "source": [
        "error = []\n",
        "\n",
        "\n",
        "for i in range(1,40):\n",
        "  knn = KNeighborsClassifier(n_neighbors = i)\n",
        "  knn.fit(X_train,y_train)\n",
        "  pred_i = knn.predict(X_test)\n",
        "  error.append(np.mean(pred_i !=y_test))\n",
        "  print(np.mean(pred_i!=y_test))"
      ],
      "metadata": {
        "colab": {
          "base_uri": "https://localhost:8080/"
        },
        "id": "25mNOtU_Izdx",
        "outputId": "ce8d7e68-b303-4309-92c3-8283adf5fb85"
      },
      "execution_count": null,
      "outputs": [
        {
          "output_type": "stream",
          "name": "stdout",
          "text": [
            "0.3246753246753247\n",
            "0.2987012987012987\n",
            "0.35064935064935066\n",
            "0.2922077922077922\n",
            "0.33766233766233766\n",
            "0.2727272727272727\n",
            "0.3116883116883117\n",
            "0.2532467532467532\n",
            "0.2792207792207792\n",
            "0.23376623376623376\n",
            "0.2662337662337662\n",
            "0.22077922077922077\n",
            "0.22727272727272727\n",
            "0.22727272727272727\n",
            "0.24025974025974026\n",
            "0.22077922077922077\n",
            "0.22727272727272727\n",
            "0.24025974025974026\n",
            "0.24675324675324675\n",
            "0.2727272727272727\n",
            "0.2597402597402597\n",
            "0.2597402597402597\n",
            "0.2857142857142857\n",
            "0.2532467532467532\n",
            "0.2857142857142857\n",
            "0.2597402597402597\n",
            "0.2727272727272727\n",
            "0.2662337662337662\n",
            "0.2857142857142857\n",
            "0.2922077922077922\n",
            "0.2792207792207792\n",
            "0.2597402597402597\n",
            "0.2532467532467532\n",
            "0.24025974025974026\n",
            "0.24675324675324675\n",
            "0.2532467532467532\n",
            "0.2597402597402597\n",
            "0.2727272727272727\n",
            "0.2792207792207792\n"
          ]
        }
      ]
    },
    {
      "cell_type": "markdown",
      "source": [
        "#Finding the best value of k for our data which is for minimum error"
      ],
      "metadata": {
        "id": "yzQzp2s-ZtrW"
      }
    },
    {
      "cell_type": "code",
      "source": [
        "print(\"The best K value \", np.argmin(error), \"The minimum error value is :\", min(error))"
      ],
      "metadata": {
        "colab": {
          "base_uri": "https://localhost:8080/"
        },
        "id": "DXVZ2eRfLVXM",
        "outputId": "52423e40-d421-4c23-cc0b-9ce465db735a"
      },
      "execution_count": null,
      "outputs": [
        {
          "output_type": "stream",
          "name": "stdout",
          "text": [
            "The best K value  11 The value is : 0.22077922077922077\n"
          ]
        }
      ]
    },
    {
      "cell_type": "markdown",
      "source": [
        "#Plotting Mean Error vs k-Value "
      ],
      "metadata": {
        "id": "u1t2LNS8Z6Sc"
      }
    },
    {
      "cell_type": "code",
      "source": [
        "plt.figure(figsize=(12,6))\n",
        "plt.plot(range(1,40), error, color='red', linestyle='dashed', marker='o', markerfacecolor='blue', markersize=10)\n",
        "plt.title('Error Rate K value')\n",
        "plt.xlabel('K value')\n",
        "plt.ylabel('Mean Error')"
      ],
      "metadata": {
        "colab": {
          "base_uri": "https://localhost:8080/",
          "height": 421
        },
        "id": "u0HoAyaRJVmP",
        "outputId": "29af0acc-47e2-441b-9fad-b4dcc0cb670c"
      },
      "execution_count": null,
      "outputs": [
        {
          "output_type": "execute_result",
          "data": {
            "text/plain": [
              "Text(0, 0.5, 'Mean Error')"
            ]
          },
          "metadata": {},
          "execution_count": 42
        },
        {
          "output_type": "display_data",
          "data": {
            "text/plain": [
              "<Figure size 864x432 with 1 Axes>"
            ],
            "image/png": "[encoded data removed]"
          },
          "metadata": {
            "needs_background": "light"
          }
        }
      ]
    }
  ]
}